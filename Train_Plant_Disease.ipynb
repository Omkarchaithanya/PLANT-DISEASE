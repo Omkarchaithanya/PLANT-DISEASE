{
 "cells": [
  {
   "cell_type": "code",
   "execution_count": 1,
   "id": "691d9aa5-8ea3-407f-8638-c58b9a645d18",
   "metadata": {},
   "outputs": [],
   "source": [
    "import tensorflow as tf\n",
    "import matplotlib.pyplot as plt\n",
    "import pandas as pd\n",
    "import seaborn as sns"
   ]
  },
  {
   "cell_type": "code",
   "execution_count": 2,
   "id": "8a2b565f-cdfe-40c2-a240-91af4cbb2c1c",
   "metadata": {},
   "outputs": [
    {
     "name": "stdout",
     "output_type": "stream",
     "text": [
      "Found 70296 files belonging to 38 classes.\n"
     ]
    }
   ],
   "source": [
    "training_set = tf.keras.utils.image_dataset_from_directory(\n",
    "    'train',\n",
    "    labels=\"inferred\",\n",
    "    label_mode=\"categorical\",\n",
    "    class_names=None,\n",
    "    color_mode=\"rgb\",\n",
    "    batch_size=32,\n",
    "    image_size=(128, 128),\n",
    "    shuffle=True,\n",
    "    seed=None,\n",
    "    validation_split=None,\n",
    "    subset=None,\n",
    "    interpolation=\"bilinear\",\n",
    "    follow_links=False,\n",
    "    crop_to_aspect_ratio=False\n",
    ")"
   ]
  },
  {
   "cell_type": "code",
   "execution_count": 3,
   "id": "944b1cce-a98c-4526-b1da-4839493ae12b",
   "metadata": {},
   "outputs": [
    {
     "name": "stdout",
     "output_type": "stream",
     "text": [
      "Found 17572 files belonging to 38 classes.\n"
     ]
    }
   ],
   "source": [
    "validation_set = tf.keras.utils.image_dataset_from_directory(\n",
    "    'valid',\n",
    "    labels=\"inferred\",\n",
    "    label_mode=\"categorical\",\n",
    "    class_names=None,\n",
    "    color_mode=\"rgb\",\n",
    "    batch_size=32,\n",
    "    image_size=(128, 128),\n",
    "    shuffle=True,\n",
    "    seed=None,\n",
    "    validation_split=None,\n",
    "    subset=None,\n",
    "    interpolation=\"bilinear\",\n",
    "    follow_links=False,\n",
    "    crop_to_aspect_ratio=False\n",
    ")"
   ]
  },
  {
   "cell_type": "code",
   "execution_count": 4,
   "id": "96f2c408-bad0-4f8b-9557-b4364873b8c1",
   "metadata": {},
   "outputs": [
    {
     "data": {
      "text/plain": [
       "<_PrefetchDataset element_spec=(TensorSpec(shape=(None, 128, 128, 3), dtype=tf.float32, name=None), TensorSpec(shape=(None, 38), dtype=tf.float32, name=None))>"
      ]
     },
     "execution_count": 4,
     "metadata": {},
     "output_type": "execute_result"
    }
   ],
   "source": [
    "training_set"
   ]
  },
  {
   "cell_type": "code",
   "execution_count": 5,
   "id": "c48b9ebd-e33f-402d-b1e8-0b9337ac3497",
   "metadata": {},
   "outputs": [],
   "source": [
    "model = tf.keras.models.Sequential()"
   ]
  },
  {
   "cell_type": "code",
   "execution_count": 6,
   "id": "fac918d0-cdd7-4239-8cd6-278099331992",
   "metadata": {},
   "outputs": [
    {
     "name": "stdout",
     "output_type": "stream",
     "text": [
      "tf.Tensor(\n",
      "[[[[112.5   97.5  116.5 ]\n",
      "   [125.5  110.5  129.5 ]\n",
      "   [145.5  130.5  149.5 ]\n",
      "   ...\n",
      "   [129.75 115.75 138.75]\n",
      "   [125.5  111.5  134.5 ]\n",
      "   [124.   110.   133.  ]]\n",
      "\n",
      "  [[118.25 103.25 122.25]\n",
      "   [114.5   99.5  118.5 ]\n",
      "   [ 80.75  65.75  84.75]\n",
      "   ...\n",
      "   [121.75 107.75 130.75]\n",
      "   [126.75 112.75 135.75]\n",
      "   [131.75 117.75 140.75]]\n",
      "\n",
      "  [[101.5   86.5  105.5 ]\n",
      "   [ 93.    78.    97.  ]\n",
      "   [104.5   89.5  108.5 ]\n",
      "   ...\n",
      "   [123.25 109.25 132.25]\n",
      "   [130.75 116.75 139.75]\n",
      "   [134.   120.   143.  ]]\n",
      "\n",
      "  ...\n",
      "\n",
      "  [[148.5  140.5  161.5 ]\n",
      "   [166.75 158.75 179.75]\n",
      "   [173.5  165.5  186.5 ]\n",
      "   ...\n",
      "   [159.75 153.75 179.75]\n",
      "   [160.5  154.5  180.5 ]\n",
      "   [159.   153.   179.  ]]\n",
      "\n",
      "  [[172.75 164.75 185.75]\n",
      "   [159.5  151.5  172.5 ]\n",
      "   [170.   162.   183.  ]\n",
      "   ...\n",
      "   [155.75 149.75 175.75]\n",
      "   [147.5  141.5  167.5 ]\n",
      "   [151.   145.   171.  ]]\n",
      "\n",
      "  [[152.   144.   165.  ]\n",
      "   [149.25 141.25 162.25]\n",
      "   [174.   166.   187.  ]\n",
      "   ...\n",
      "   [157.5  151.5  177.5 ]\n",
      "   [153.25 147.25 173.25]\n",
      "   [152.75 146.75 172.75]]]\n",
      "\n",
      "\n",
      " [[[ 73.25  65.75  69.25]\n",
      "   [ 74.25  65.5   70.25]\n",
      "   [ 69.5   62.    65.5 ]\n",
      "   ...\n",
      "   [ 71.    60.    58.  ]\n",
      "   [ 70.75  60.5   59.5 ]\n",
      "   [ 64.75  55.25  54.25]]\n",
      "\n",
      "  [[140.   131.   136.  ]\n",
      "   [128.   119.   124.  ]\n",
      "   [131.75 122.75 127.75]\n",
      "   ...\n",
      "   [117.75 106.75 104.75]\n",
      "   [125.75 114.75 112.75]\n",
      "   [129.75 118.75 116.75]]\n",
      "\n",
      "  [[138.   129.   134.  ]\n",
      "   [133.25 124.25 129.25]\n",
      "   [124.   115.   120.  ]\n",
      "   ...\n",
      "   [113.    99.    98.  ]\n",
      "   [120.75 106.75 105.75]\n",
      "   [128.   114.   113.  ]]\n",
      "\n",
      "  ...\n",
      "\n",
      "  [[201.   195.   199.  ]\n",
      "   [188.25 182.25 186.25]\n",
      "   [196.5  190.5  194.5 ]\n",
      "   ...\n",
      "   [152.25 141.25 139.25]\n",
      "   [150.   139.   137.  ]\n",
      "   [153.75 142.75 140.75]]\n",
      "\n",
      "  [[193.25 187.25 191.25]\n",
      "   [184.5  178.5  182.5 ]\n",
      "   [192.75 186.75 190.75]\n",
      "   ...\n",
      "   [152.   141.   139.  ]\n",
      "   [150.   139.   137.  ]\n",
      "   [155.25 144.25 142.25]]\n",
      "\n",
      "  [[201.5  195.5  199.5 ]\n",
      "   [198.75 192.75 196.75]\n",
      "   [193.75 187.75 191.75]\n",
      "   ...\n",
      "   [152.5  141.5  139.5 ]\n",
      "   [150.   139.   137.  ]\n",
      "   [153.25 142.25 140.25]]]\n",
      "\n",
      "\n",
      " [[[145.5  133.5  137.5 ]\n",
      "   [136.5  124.5  128.5 ]\n",
      "   [140.5  128.5  132.5 ]\n",
      "   ...\n",
      "   [145.75 131.75 131.75]\n",
      "   [132.25 118.25 118.25]\n",
      "   [137.   123.   123.  ]]\n",
      "\n",
      "  [[137.5  125.5  129.5 ]\n",
      "   [129.5  117.5  121.5 ]\n",
      "   [134.25 122.25 126.25]\n",
      "   ...\n",
      "   [128.5  114.5  114.5 ]\n",
      "   [118.5  104.5  104.5 ]\n",
      "   [135.75 121.75 121.75]]\n",
      "\n",
      "  [[143.75 131.75 135.75]\n",
      "   [132.   120.   124.  ]\n",
      "   [127.   115.   119.  ]\n",
      "   ...\n",
      "   [127.25 113.25 113.25]\n",
      "   [132.5  118.5  118.5 ]\n",
      "   [119.25 105.25 105.25]]\n",
      "\n",
      "  ...\n",
      "\n",
      "  [[174.75 164.75 172.75]\n",
      "   [166.5  156.5  164.5 ]\n",
      "   [172.25 162.25 170.25]\n",
      "   ...\n",
      "   [193.75 184.75 189.75]\n",
      "   [182.25 173.25 178.25]\n",
      "   [193.5  184.5  189.5 ]]\n",
      "\n",
      "  [[167.75 157.75 165.75]\n",
      "   [168.75 158.75 166.75]\n",
      "   [171.5  161.5  169.5 ]\n",
      "   ...\n",
      "   [197.75 188.75 193.75]\n",
      "   [188.25 179.25 184.25]\n",
      "   [184.75 175.75 180.75]]\n",
      "\n",
      "  [[174.   164.   172.  ]\n",
      "   [177.25 167.25 175.25]\n",
      "   [175.75 165.75 173.75]\n",
      "   ...\n",
      "   [192.25 183.25 188.25]\n",
      "   [183.5  174.5  179.5 ]\n",
      "   [187.25 178.25 183.25]]]\n",
      "\n",
      "\n",
      " ...\n",
      "\n",
      "\n",
      " [[[191.5  181.5  192.5 ]\n",
      "   [196.5  186.5  197.5 ]\n",
      "   [188.5  178.5  189.5 ]\n",
      "   ...\n",
      "   [163.25 153.25 164.25]\n",
      "   [181.25 171.25 182.25]\n",
      "   [148.75 138.75 149.75]]\n",
      "\n",
      "  [[188.5  178.5  189.5 ]\n",
      "   [191.5  181.5  192.5 ]\n",
      "   [187.   177.   188.  ]\n",
      "   ...\n",
      "   [164.   154.   165.  ]\n",
      "   [160.5  150.5  161.5 ]\n",
      "   [152.75 142.75 153.75]]\n",
      "\n",
      "  [[191.   181.   192.  ]\n",
      "   [195.25 185.25 196.25]\n",
      "   [194.25 184.25 195.25]\n",
      "   ...\n",
      "   [161.25 151.25 162.25]\n",
      "   [174.25 164.25 175.25]\n",
      "   [155.25 145.25 156.25]]\n",
      "\n",
      "  ...\n",
      "\n",
      "  [[130.5  109.5  124.5 ]\n",
      "   [132.5  111.5  126.5 ]\n",
      "   [128.5  107.5  122.5 ]\n",
      "   ...\n",
      "   [105.25  89.25 100.25]\n",
      "   [115.75  99.75 110.75]\n",
      "   [109.75  93.75 104.75]]\n",
      "\n",
      "  [[133.25 112.25 127.25]\n",
      "   [130.5  109.5  124.5 ]\n",
      "   [131.5  110.5  125.5 ]\n",
      "   ...\n",
      "   [113.5   95.5  107.5 ]\n",
      "   [108.75  90.75 102.75]\n",
      "   [107.    89.   101.  ]]\n",
      "\n",
      "  [[133.25 112.25 127.25]\n",
      "   [132.25 111.25 126.25]\n",
      "   [127.5  106.5  121.5 ]\n",
      "   ...\n",
      "   [ 95.25  77.25  89.25]\n",
      "   [118.   100.   112.  ]\n",
      "   [123.5  105.5  117.5 ]]]\n",
      "\n",
      "\n",
      " [[[164.75 162.75 173.75]\n",
      "   [165.25 163.25 174.25]\n",
      "   [166.   164.   175.  ]\n",
      "   ...\n",
      "   [153.   150.   159.  ]\n",
      "   [155.   152.   161.  ]\n",
      "   [150.75 147.75 156.75]]\n",
      "\n",
      "  [[194.5  192.5  203.5 ]\n",
      "   [170.25 168.25 179.25]\n",
      "   [168.   166.   177.  ]\n",
      "   ...\n",
      "   [143.5  140.5  149.5 ]\n",
      "   [165.75 162.75 171.75]\n",
      "   [151.25 148.25 157.25]]\n",
      "\n",
      "  [[166.75 164.75 175.75]\n",
      "   [171.5  169.5  180.5 ]\n",
      "   [177.   175.   186.  ]\n",
      "   ...\n",
      "   [161.5  158.5  167.5 ]\n",
      "   [160.25 157.25 166.25]\n",
      "   [148.25 145.25 154.25]]\n",
      "\n",
      "  ...\n",
      "\n",
      "  [[198.5  195.5  202.5 ]\n",
      "   [198.   195.   202.  ]\n",
      "   [193.   190.   197.  ]\n",
      "   ...\n",
      "   [172.75 167.75 174.75]\n",
      "   [168.75 163.75 170.75]\n",
      "   [158.   153.   160.  ]]\n",
      "\n",
      "  [[193.75 190.75 197.75]\n",
      "   [192.25 189.25 196.25]\n",
      "   [199.   196.   203.  ]\n",
      "   ...\n",
      "   [156.5  151.5  158.5 ]\n",
      "   [172.25 167.25 174.25]\n",
      "   [163.   158.   165.  ]]\n",
      "\n",
      "  [[198.75 195.75 202.75]\n",
      "   [199.5  196.5  203.5 ]\n",
      "   [200.5  197.5  204.5 ]\n",
      "   ...\n",
      "   [166.25 161.25 168.25]\n",
      "   [155.   150.   157.  ]\n",
      "   [165.5  160.5  167.5 ]]]\n",
      "\n",
      "\n",
      " [[[130.75 127.75 138.75]\n",
      "   [139.25 136.25 147.25]\n",
      "   [137.5  134.5  145.5 ]\n",
      "   ...\n",
      "   [131.75 128.75 139.75]\n",
      "   [123.   120.   131.  ]\n",
      "   [128.25 125.25 136.25]]\n",
      "\n",
      "  [[139.25 136.25 147.25]\n",
      "   [138.75 135.75 146.75]\n",
      "   [137.75 134.75 145.75]\n",
      "   ...\n",
      "   [120.75 117.75 128.75]\n",
      "   [123.25 120.25 131.25]\n",
      "   [126.5  123.5  134.5 ]]\n",
      "\n",
      "  [[147.   144.   155.  ]\n",
      "   [143.   140.   151.  ]\n",
      "   [139.75 136.75 147.75]\n",
      "   ...\n",
      "   [126.25 123.25 134.25]\n",
      "   [130.75 127.75 138.75]\n",
      "   [152.75 149.75 160.75]]\n",
      "\n",
      "  ...\n",
      "\n",
      "  [[189.   186.   197.  ]\n",
      "   [195.75 192.75 203.75]\n",
      "   [181.5  178.5  189.5 ]\n",
      "   ...\n",
      "   [167.75 164.75 175.75]\n",
      "   [164.5  161.5  172.5 ]\n",
      "   [159.75 156.75 167.75]]\n",
      "\n",
      "  [[179.5  176.5  187.5 ]\n",
      "   [200.   197.   208.  ]\n",
      "   [179.   176.   187.  ]\n",
      "   ...\n",
      "   [158.25 155.25 166.25]\n",
      "   [158.   155.   166.  ]\n",
      "   [158.   155.   166.  ]]\n",
      "\n",
      "  [[176.   173.   184.  ]\n",
      "   [178.5  175.5  186.5 ]\n",
      "   [185.5  182.5  193.5 ]\n",
      "   ...\n",
      "   [159.5  156.5  167.5 ]\n",
      "   [163.5  160.5  171.5 ]\n",
      "   [160.75 157.75 168.75]]]], shape=(32, 128, 128, 3), dtype=float32) (32, 128, 128, 3)\n",
      "tf.Tensor(\n",
      "[[0. 1. 0. ... 0. 0. 0.]\n",
      " [0. 0. 0. ... 0. 0. 0.]\n",
      " [0. 0. 0. ... 0. 0. 0.]\n",
      " ...\n",
      " [0. 0. 0. ... 0. 0. 0.]\n",
      " [0. 0. 0. ... 0. 0. 0.]\n",
      " [0. 0. 0. ... 0. 0. 0.]], shape=(32, 38), dtype=float32) (32, 38)\n"
     ]
    }
   ],
   "source": [
    "for x,y in training_set:\n",
    "    print(x,x.shape)\n",
    "    print(y,y.shape)\n",
    "    break"
   ]
  },
  {
   "cell_type": "code",
   "execution_count": 7,
   "id": "4a639d06-829e-4358-8874-3e8fbc7993d1",
   "metadata": {},
   "outputs": [],
   "source": [
    "from tensorflow.keras.layers import Dense,Conv2D,MaxPool2D,Flatten,Dropout\n",
    "from tensorflow.keras.models import Sequential"
   ]
  },
  {
   "cell_type": "code",
   "execution_count": 8,
   "id": "7ca3329e-e943-49c1-8b05-6e78132f1457",
   "metadata": {},
   "outputs": [],
   "source": [
    "model = Sequential()"
   ]
  },
  {
   "cell_type": "code",
   "execution_count": 9,
   "id": "1e189057-3fe5-4014-b540-51fea26d413b",
   "metadata": {},
   "outputs": [
    {
     "name": "stderr",
     "output_type": "stream",
     "text": [
      "C:\\Users\\CSP\\anaconda3\\Lib\\site-packages\\keras\\src\\layers\\convolutional\\base_conv.py:99: UserWarning: Do not pass an `input_shape`/`input_dim` argument to a layer. When using Sequential models, prefer using an `Input(shape)` object as the first layer in the model instead.\n",
      "  super().__init__(\n"
     ]
    }
   ],
   "source": [
    "model.add(Conv2D(filters=32,kernel_size=3,padding='same',activation='relu',input_shape=(128,128,3)))\n",
    "model.add(Conv2D(filters=32,kernel_size=3,activation='relu'))\n",
    "model.add(MaxPool2D(pool_size=2,strides=2))\n"
   ]
  },
  {
   "cell_type": "code",
   "execution_count": 10,
   "id": "973c556e-57e7-465d-8197-f10151f47e28",
   "metadata": {},
   "outputs": [],
   "source": [
    "model.add(Conv2D(filters=64,kernel_size=3,padding='same',activation='relu'))\n",
    "model.add(Conv2D(filters=64,kernel_size=3,activation='relu'))\n",
    "model.add(MaxPool2D(pool_size=2,strides=2))"
   ]
  },
  {
   "cell_type": "code",
   "execution_count": 11,
   "id": "1377390f-a97a-4dc3-ae46-312d9c14941f",
   "metadata": {},
   "outputs": [],
   "source": [
    "model.add(Conv2D(filters=128,kernel_size=3,padding='same',activation='relu'))\n",
    "model.add(Conv2D(filters=128,kernel_size=3,activation='relu'))\n",
    "model.add(MaxPool2D(pool_size=2,strides=2))"
   ]
  },
  {
   "cell_type": "code",
   "execution_count": 12,
   "id": "9d4c9ff3-cd32-4aae-adda-83803ab2ae18",
   "metadata": {},
   "outputs": [],
   "source": [
    "model.add(Conv2D(filters=256,kernel_size=3,padding='same',activation='relu'))\n",
    "model.add(Conv2D(filters=256,kernel_size=3,activation='relu'))\n",
    "model.add(MaxPool2D(pool_size=2,strides=2))"
   ]
  },
  {
   "cell_type": "code",
   "execution_count": 13,
   "id": "455e2576-7f5b-420b-934c-8e4ef7de5400",
   "metadata": {},
   "outputs": [],
   "source": [
    "model.add(Conv2D(filters=512,kernel_size=3,padding='same',activation='relu'))\n",
    "model.add(Conv2D(filters=512,kernel_size=3,activation='relu'))\n",
    "model.add(MaxPool2D(pool_size=2,strides=2))"
   ]
  },
  {
   "cell_type": "code",
   "execution_count": 14,
   "id": "93081509-72fe-445b-85e5-2f6fffb378b6",
   "metadata": {},
   "outputs": [],
   "source": [
    "model.add(Dropout(0.25))"
   ]
  },
  {
   "cell_type": "code",
   "execution_count": 15,
   "id": "28348ad9-727d-4210-a950-880d6a5840c5",
   "metadata": {},
   "outputs": [],
   "source": [
    "model.add(Flatten())"
   ]
  },
  {
   "cell_type": "code",
   "execution_count": 16,
   "id": "d49096ca-3293-453d-a933-cd80d604318d",
   "metadata": {},
   "outputs": [],
   "source": [
    "model.add(Dense(units=1500,activation='relu'))"
   ]
  },
  {
   "cell_type": "code",
   "execution_count": 17,
   "id": "96a538d3-58d0-47f3-b56e-fdd8448a6533",
   "metadata": {},
   "outputs": [],
   "source": [
    "model.add(Dropout(0.4))"
   ]
  },
  {
   "cell_type": "code",
   "execution_count": 18,
   "id": "fdf6064f-f130-4f52-9fc1-f29cf1ac5b37",
   "metadata": {},
   "outputs": [],
   "source": [
    "model.add(Dense(units=38,activation='softmax'))"
   ]
  },
  {
   "cell_type": "code",
   "execution_count": 20,
   "id": "40221693-03d6-4b9d-a740-23e088405db7",
   "metadata": {},
   "outputs": [
    {
     "data": {
      "text/html": [
       "<pre style=\"white-space:pre;overflow-x:auto;line-height:normal;font-family:Menlo,'DejaVu Sans Mono',consolas,'Courier New',monospace\"><span style=\"font-weight: bold\">Model: \"sequential_1\"</span>\n",
       "</pre>\n"
      ],
      "text/plain": [
       "\u001b[1mModel: \"sequential_1\"\u001b[0m\n"
      ]
     },
     "metadata": {},
     "output_type": "display_data"
    },
    {
     "data": {
      "text/html": [
       "<pre style=\"white-space:pre;overflow-x:auto;line-height:normal;font-family:Menlo,'DejaVu Sans Mono',consolas,'Courier New',monospace\">┏━━━━━━━━━━━━━━━━━━━━━━━━━━━━━━━━━┳━━━━━━━━━━━━━━━━━━━━━━━━┳━━━━━━━━━━━━━━━┓\n",
       "┃<span style=\"font-weight: bold\"> Layer (type)                    </span>┃<span style=\"font-weight: bold\"> Output Shape           </span>┃<span style=\"font-weight: bold\">       Param # </span>┃\n",
       "┡━━━━━━━━━━━━━━━━━━━━━━━━━━━━━━━━━╇━━━━━━━━━━━━━━━━━━━━━━━━╇━━━━━━━━━━━━━━━┩\n",
       "│ conv2d (<span style=\"color: #0087ff; text-decoration-color: #0087ff\">Conv2D</span>)                 │ (<span style=\"color: #00d7ff; text-decoration-color: #00d7ff\">None</span>, <span style=\"color: #00af00; text-decoration-color: #00af00\">128</span>, <span style=\"color: #00af00; text-decoration-color: #00af00\">128</span>, <span style=\"color: #00af00; text-decoration-color: #00af00\">32</span>)   │           <span style=\"color: #00af00; text-decoration-color: #00af00\">896</span> │\n",
       "├─────────────────────────────────┼────────────────────────┼───────────────┤\n",
       "│ conv2d_1 (<span style=\"color: #0087ff; text-decoration-color: #0087ff\">Conv2D</span>)               │ (<span style=\"color: #00d7ff; text-decoration-color: #00d7ff\">None</span>, <span style=\"color: #00af00; text-decoration-color: #00af00\">126</span>, <span style=\"color: #00af00; text-decoration-color: #00af00\">126</span>, <span style=\"color: #00af00; text-decoration-color: #00af00\">32</span>)   │         <span style=\"color: #00af00; text-decoration-color: #00af00\">9,248</span> │\n",
       "├─────────────────────────────────┼────────────────────────┼───────────────┤\n",
       "│ max_pooling2d (<span style=\"color: #0087ff; text-decoration-color: #0087ff\">MaxPooling2D</span>)    │ (<span style=\"color: #00d7ff; text-decoration-color: #00d7ff\">None</span>, <span style=\"color: #00af00; text-decoration-color: #00af00\">63</span>, <span style=\"color: #00af00; text-decoration-color: #00af00\">63</span>, <span style=\"color: #00af00; text-decoration-color: #00af00\">32</span>)     │             <span style=\"color: #00af00; text-decoration-color: #00af00\">0</span> │\n",
       "├─────────────────────────────────┼────────────────────────┼───────────────┤\n",
       "│ conv2d_2 (<span style=\"color: #0087ff; text-decoration-color: #0087ff\">Conv2D</span>)               │ (<span style=\"color: #00d7ff; text-decoration-color: #00d7ff\">None</span>, <span style=\"color: #00af00; text-decoration-color: #00af00\">63</span>, <span style=\"color: #00af00; text-decoration-color: #00af00\">63</span>, <span style=\"color: #00af00; text-decoration-color: #00af00\">64</span>)     │        <span style=\"color: #00af00; text-decoration-color: #00af00\">18,496</span> │\n",
       "├─────────────────────────────────┼────────────────────────┼───────────────┤\n",
       "│ conv2d_3 (<span style=\"color: #0087ff; text-decoration-color: #0087ff\">Conv2D</span>)               │ (<span style=\"color: #00d7ff; text-decoration-color: #00d7ff\">None</span>, <span style=\"color: #00af00; text-decoration-color: #00af00\">61</span>, <span style=\"color: #00af00; text-decoration-color: #00af00\">61</span>, <span style=\"color: #00af00; text-decoration-color: #00af00\">64</span>)     │        <span style=\"color: #00af00; text-decoration-color: #00af00\">36,928</span> │\n",
       "├─────────────────────────────────┼────────────────────────┼───────────────┤\n",
       "│ max_pooling2d_1 (<span style=\"color: #0087ff; text-decoration-color: #0087ff\">MaxPooling2D</span>)  │ (<span style=\"color: #00d7ff; text-decoration-color: #00d7ff\">None</span>, <span style=\"color: #00af00; text-decoration-color: #00af00\">30</span>, <span style=\"color: #00af00; text-decoration-color: #00af00\">30</span>, <span style=\"color: #00af00; text-decoration-color: #00af00\">64</span>)     │             <span style=\"color: #00af00; text-decoration-color: #00af00\">0</span> │\n",
       "├─────────────────────────────────┼────────────────────────┼───────────────┤\n",
       "│ conv2d_4 (<span style=\"color: #0087ff; text-decoration-color: #0087ff\">Conv2D</span>)               │ (<span style=\"color: #00d7ff; text-decoration-color: #00d7ff\">None</span>, <span style=\"color: #00af00; text-decoration-color: #00af00\">30</span>, <span style=\"color: #00af00; text-decoration-color: #00af00\">30</span>, <span style=\"color: #00af00; text-decoration-color: #00af00\">128</span>)    │        <span style=\"color: #00af00; text-decoration-color: #00af00\">73,856</span> │\n",
       "├─────────────────────────────────┼────────────────────────┼───────────────┤\n",
       "│ conv2d_5 (<span style=\"color: #0087ff; text-decoration-color: #0087ff\">Conv2D</span>)               │ (<span style=\"color: #00d7ff; text-decoration-color: #00d7ff\">None</span>, <span style=\"color: #00af00; text-decoration-color: #00af00\">28</span>, <span style=\"color: #00af00; text-decoration-color: #00af00\">28</span>, <span style=\"color: #00af00; text-decoration-color: #00af00\">128</span>)    │       <span style=\"color: #00af00; text-decoration-color: #00af00\">147,584</span> │\n",
       "├─────────────────────────────────┼────────────────────────┼───────────────┤\n",
       "│ max_pooling2d_2 (<span style=\"color: #0087ff; text-decoration-color: #0087ff\">MaxPooling2D</span>)  │ (<span style=\"color: #00d7ff; text-decoration-color: #00d7ff\">None</span>, <span style=\"color: #00af00; text-decoration-color: #00af00\">14</span>, <span style=\"color: #00af00; text-decoration-color: #00af00\">14</span>, <span style=\"color: #00af00; text-decoration-color: #00af00\">128</span>)    │             <span style=\"color: #00af00; text-decoration-color: #00af00\">0</span> │\n",
       "├─────────────────────────────────┼────────────────────────┼───────────────┤\n",
       "│ conv2d_6 (<span style=\"color: #0087ff; text-decoration-color: #0087ff\">Conv2D</span>)               │ (<span style=\"color: #00d7ff; text-decoration-color: #00d7ff\">None</span>, <span style=\"color: #00af00; text-decoration-color: #00af00\">14</span>, <span style=\"color: #00af00; text-decoration-color: #00af00\">14</span>, <span style=\"color: #00af00; text-decoration-color: #00af00\">256</span>)    │       <span style=\"color: #00af00; text-decoration-color: #00af00\">295,168</span> │\n",
       "├─────────────────────────────────┼────────────────────────┼───────────────┤\n",
       "│ conv2d_7 (<span style=\"color: #0087ff; text-decoration-color: #0087ff\">Conv2D</span>)               │ (<span style=\"color: #00d7ff; text-decoration-color: #00d7ff\">None</span>, <span style=\"color: #00af00; text-decoration-color: #00af00\">12</span>, <span style=\"color: #00af00; text-decoration-color: #00af00\">12</span>, <span style=\"color: #00af00; text-decoration-color: #00af00\">256</span>)    │       <span style=\"color: #00af00; text-decoration-color: #00af00\">590,080</span> │\n",
       "├─────────────────────────────────┼────────────────────────┼───────────────┤\n",
       "│ max_pooling2d_3 (<span style=\"color: #0087ff; text-decoration-color: #0087ff\">MaxPooling2D</span>)  │ (<span style=\"color: #00d7ff; text-decoration-color: #00d7ff\">None</span>, <span style=\"color: #00af00; text-decoration-color: #00af00\">6</span>, <span style=\"color: #00af00; text-decoration-color: #00af00\">6</span>, <span style=\"color: #00af00; text-decoration-color: #00af00\">256</span>)      │             <span style=\"color: #00af00; text-decoration-color: #00af00\">0</span> │\n",
       "├─────────────────────────────────┼────────────────────────┼───────────────┤\n",
       "│ conv2d_8 (<span style=\"color: #0087ff; text-decoration-color: #0087ff\">Conv2D</span>)               │ (<span style=\"color: #00d7ff; text-decoration-color: #00d7ff\">None</span>, <span style=\"color: #00af00; text-decoration-color: #00af00\">6</span>, <span style=\"color: #00af00; text-decoration-color: #00af00\">6</span>, <span style=\"color: #00af00; text-decoration-color: #00af00\">512</span>)      │     <span style=\"color: #00af00; text-decoration-color: #00af00\">1,180,160</span> │\n",
       "├─────────────────────────────────┼────────────────────────┼───────────────┤\n",
       "│ conv2d_9 (<span style=\"color: #0087ff; text-decoration-color: #0087ff\">Conv2D</span>)               │ (<span style=\"color: #00d7ff; text-decoration-color: #00d7ff\">None</span>, <span style=\"color: #00af00; text-decoration-color: #00af00\">4</span>, <span style=\"color: #00af00; text-decoration-color: #00af00\">4</span>, <span style=\"color: #00af00; text-decoration-color: #00af00\">512</span>)      │     <span style=\"color: #00af00; text-decoration-color: #00af00\">2,359,808</span> │\n",
       "├─────────────────────────────────┼────────────────────────┼───────────────┤\n",
       "│ max_pooling2d_4 (<span style=\"color: #0087ff; text-decoration-color: #0087ff\">MaxPooling2D</span>)  │ (<span style=\"color: #00d7ff; text-decoration-color: #00d7ff\">None</span>, <span style=\"color: #00af00; text-decoration-color: #00af00\">2</span>, <span style=\"color: #00af00; text-decoration-color: #00af00\">2</span>, <span style=\"color: #00af00; text-decoration-color: #00af00\">512</span>)      │             <span style=\"color: #00af00; text-decoration-color: #00af00\">0</span> │\n",
       "├─────────────────────────────────┼────────────────────────┼───────────────┤\n",
       "│ dropout (<span style=\"color: #0087ff; text-decoration-color: #0087ff\">Dropout</span>)               │ (<span style=\"color: #00d7ff; text-decoration-color: #00d7ff\">None</span>, <span style=\"color: #00af00; text-decoration-color: #00af00\">2</span>, <span style=\"color: #00af00; text-decoration-color: #00af00\">2</span>, <span style=\"color: #00af00; text-decoration-color: #00af00\">512</span>)      │             <span style=\"color: #00af00; text-decoration-color: #00af00\">0</span> │\n",
       "├─────────────────────────────────┼────────────────────────┼───────────────┤\n",
       "│ flatten (<span style=\"color: #0087ff; text-decoration-color: #0087ff\">Flatten</span>)               │ (<span style=\"color: #00d7ff; text-decoration-color: #00d7ff\">None</span>, <span style=\"color: #00af00; text-decoration-color: #00af00\">2048</span>)           │             <span style=\"color: #00af00; text-decoration-color: #00af00\">0</span> │\n",
       "├─────────────────────────────────┼────────────────────────┼───────────────┤\n",
       "│ dense (<span style=\"color: #0087ff; text-decoration-color: #0087ff\">Dense</span>)                   │ (<span style=\"color: #00d7ff; text-decoration-color: #00d7ff\">None</span>, <span style=\"color: #00af00; text-decoration-color: #00af00\">1500</span>)           │     <span style=\"color: #00af00; text-decoration-color: #00af00\">3,073,500</span> │\n",
       "├─────────────────────────────────┼────────────────────────┼───────────────┤\n",
       "│ dropout_1 (<span style=\"color: #0087ff; text-decoration-color: #0087ff\">Dropout</span>)             │ (<span style=\"color: #00d7ff; text-decoration-color: #00d7ff\">None</span>, <span style=\"color: #00af00; text-decoration-color: #00af00\">1500</span>)           │             <span style=\"color: #00af00; text-decoration-color: #00af00\">0</span> │\n",
       "├─────────────────────────────────┼────────────────────────┼───────────────┤\n",
       "│ dense_1 (<span style=\"color: #0087ff; text-decoration-color: #0087ff\">Dense</span>)                 │ (<span style=\"color: #00d7ff; text-decoration-color: #00d7ff\">None</span>, <span style=\"color: #00af00; text-decoration-color: #00af00\">38</span>)             │        <span style=\"color: #00af00; text-decoration-color: #00af00\">57,038</span> │\n",
       "└─────────────────────────────────┴────────────────────────┴───────────────┘\n",
       "</pre>\n"
      ],
      "text/plain": [
       "┏━━━━━━━━━━━━━━━━━━━━━━━━━━━━━━━━━┳━━━━━━━━━━━━━━━━━━━━━━━━┳━━━━━━━━━━━━━━━┓\n",
       "┃\u001b[1m \u001b[0m\u001b[1mLayer (type)                   \u001b[0m\u001b[1m \u001b[0m┃\u001b[1m \u001b[0m\u001b[1mOutput Shape          \u001b[0m\u001b[1m \u001b[0m┃\u001b[1m \u001b[0m\u001b[1m      Param #\u001b[0m\u001b[1m \u001b[0m┃\n",
       "┡━━━━━━━━━━━━━━━━━━━━━━━━━━━━━━━━━╇━━━━━━━━━━━━━━━━━━━━━━━━╇━━━━━━━━━━━━━━━┩\n",
       "│ conv2d (\u001b[38;5;33mConv2D\u001b[0m)                 │ (\u001b[38;5;45mNone\u001b[0m, \u001b[38;5;34m128\u001b[0m, \u001b[38;5;34m128\u001b[0m, \u001b[38;5;34m32\u001b[0m)   │           \u001b[38;5;34m896\u001b[0m │\n",
       "├─────────────────────────────────┼────────────────────────┼───────────────┤\n",
       "│ conv2d_1 (\u001b[38;5;33mConv2D\u001b[0m)               │ (\u001b[38;5;45mNone\u001b[0m, \u001b[38;5;34m126\u001b[0m, \u001b[38;5;34m126\u001b[0m, \u001b[38;5;34m32\u001b[0m)   │         \u001b[38;5;34m9,248\u001b[0m │\n",
       "├─────────────────────────────────┼────────────────────────┼───────────────┤\n",
       "│ max_pooling2d (\u001b[38;5;33mMaxPooling2D\u001b[0m)    │ (\u001b[38;5;45mNone\u001b[0m, \u001b[38;5;34m63\u001b[0m, \u001b[38;5;34m63\u001b[0m, \u001b[38;5;34m32\u001b[0m)     │             \u001b[38;5;34m0\u001b[0m │\n",
       "├─────────────────────────────────┼────────────────────────┼───────────────┤\n",
       "│ conv2d_2 (\u001b[38;5;33mConv2D\u001b[0m)               │ (\u001b[38;5;45mNone\u001b[0m, \u001b[38;5;34m63\u001b[0m, \u001b[38;5;34m63\u001b[0m, \u001b[38;5;34m64\u001b[0m)     │        \u001b[38;5;34m18,496\u001b[0m │\n",
       "├─────────────────────────────────┼────────────────────────┼───────────────┤\n",
       "│ conv2d_3 (\u001b[38;5;33mConv2D\u001b[0m)               │ (\u001b[38;5;45mNone\u001b[0m, \u001b[38;5;34m61\u001b[0m, \u001b[38;5;34m61\u001b[0m, \u001b[38;5;34m64\u001b[0m)     │        \u001b[38;5;34m36,928\u001b[0m │\n",
       "├─────────────────────────────────┼────────────────────────┼───────────────┤\n",
       "│ max_pooling2d_1 (\u001b[38;5;33mMaxPooling2D\u001b[0m)  │ (\u001b[38;5;45mNone\u001b[0m, \u001b[38;5;34m30\u001b[0m, \u001b[38;5;34m30\u001b[0m, \u001b[38;5;34m64\u001b[0m)     │             \u001b[38;5;34m0\u001b[0m │\n",
       "├─────────────────────────────────┼────────────────────────┼───────────────┤\n",
       "│ conv2d_4 (\u001b[38;5;33mConv2D\u001b[0m)               │ (\u001b[38;5;45mNone\u001b[0m, \u001b[38;5;34m30\u001b[0m, \u001b[38;5;34m30\u001b[0m, \u001b[38;5;34m128\u001b[0m)    │        \u001b[38;5;34m73,856\u001b[0m │\n",
       "├─────────────────────────────────┼────────────────────────┼───────────────┤\n",
       "│ conv2d_5 (\u001b[38;5;33mConv2D\u001b[0m)               │ (\u001b[38;5;45mNone\u001b[0m, \u001b[38;5;34m28\u001b[0m, \u001b[38;5;34m28\u001b[0m, \u001b[38;5;34m128\u001b[0m)    │       \u001b[38;5;34m147,584\u001b[0m │\n",
       "├─────────────────────────────────┼────────────────────────┼───────────────┤\n",
       "│ max_pooling2d_2 (\u001b[38;5;33mMaxPooling2D\u001b[0m)  │ (\u001b[38;5;45mNone\u001b[0m, \u001b[38;5;34m14\u001b[0m, \u001b[38;5;34m14\u001b[0m, \u001b[38;5;34m128\u001b[0m)    │             \u001b[38;5;34m0\u001b[0m │\n",
       "├─────────────────────────────────┼────────────────────────┼───────────────┤\n",
       "│ conv2d_6 (\u001b[38;5;33mConv2D\u001b[0m)               │ (\u001b[38;5;45mNone\u001b[0m, \u001b[38;5;34m14\u001b[0m, \u001b[38;5;34m14\u001b[0m, \u001b[38;5;34m256\u001b[0m)    │       \u001b[38;5;34m295,168\u001b[0m │\n",
       "├─────────────────────────────────┼────────────────────────┼───────────────┤\n",
       "│ conv2d_7 (\u001b[38;5;33mConv2D\u001b[0m)               │ (\u001b[38;5;45mNone\u001b[0m, \u001b[38;5;34m12\u001b[0m, \u001b[38;5;34m12\u001b[0m, \u001b[38;5;34m256\u001b[0m)    │       \u001b[38;5;34m590,080\u001b[0m │\n",
       "├─────────────────────────────────┼────────────────────────┼───────────────┤\n",
       "│ max_pooling2d_3 (\u001b[38;5;33mMaxPooling2D\u001b[0m)  │ (\u001b[38;5;45mNone\u001b[0m, \u001b[38;5;34m6\u001b[0m, \u001b[38;5;34m6\u001b[0m, \u001b[38;5;34m256\u001b[0m)      │             \u001b[38;5;34m0\u001b[0m │\n",
       "├─────────────────────────────────┼────────────────────────┼───────────────┤\n",
       "│ conv2d_8 (\u001b[38;5;33mConv2D\u001b[0m)               │ (\u001b[38;5;45mNone\u001b[0m, \u001b[38;5;34m6\u001b[0m, \u001b[38;5;34m6\u001b[0m, \u001b[38;5;34m512\u001b[0m)      │     \u001b[38;5;34m1,180,160\u001b[0m │\n",
       "├─────────────────────────────────┼────────────────────────┼───────────────┤\n",
       "│ conv2d_9 (\u001b[38;5;33mConv2D\u001b[0m)               │ (\u001b[38;5;45mNone\u001b[0m, \u001b[38;5;34m4\u001b[0m, \u001b[38;5;34m4\u001b[0m, \u001b[38;5;34m512\u001b[0m)      │     \u001b[38;5;34m2,359,808\u001b[0m │\n",
       "├─────────────────────────────────┼────────────────────────┼───────────────┤\n",
       "│ max_pooling2d_4 (\u001b[38;5;33mMaxPooling2D\u001b[0m)  │ (\u001b[38;5;45mNone\u001b[0m, \u001b[38;5;34m2\u001b[0m, \u001b[38;5;34m2\u001b[0m, \u001b[38;5;34m512\u001b[0m)      │             \u001b[38;5;34m0\u001b[0m │\n",
       "├─────────────────────────────────┼────────────────────────┼───────────────┤\n",
       "│ dropout (\u001b[38;5;33mDropout\u001b[0m)               │ (\u001b[38;5;45mNone\u001b[0m, \u001b[38;5;34m2\u001b[0m, \u001b[38;5;34m2\u001b[0m, \u001b[38;5;34m512\u001b[0m)      │             \u001b[38;5;34m0\u001b[0m │\n",
       "├─────────────────────────────────┼────────────────────────┼───────────────┤\n",
       "│ flatten (\u001b[38;5;33mFlatten\u001b[0m)               │ (\u001b[38;5;45mNone\u001b[0m, \u001b[38;5;34m2048\u001b[0m)           │             \u001b[38;5;34m0\u001b[0m │\n",
       "├─────────────────────────────────┼────────────────────────┼───────────────┤\n",
       "│ dense (\u001b[38;5;33mDense\u001b[0m)                   │ (\u001b[38;5;45mNone\u001b[0m, \u001b[38;5;34m1500\u001b[0m)           │     \u001b[38;5;34m3,073,500\u001b[0m │\n",
       "├─────────────────────────────────┼────────────────────────┼───────────────┤\n",
       "│ dropout_1 (\u001b[38;5;33mDropout\u001b[0m)             │ (\u001b[38;5;45mNone\u001b[0m, \u001b[38;5;34m1500\u001b[0m)           │             \u001b[38;5;34m0\u001b[0m │\n",
       "├─────────────────────────────────┼────────────────────────┼───────────────┤\n",
       "│ dense_1 (\u001b[38;5;33mDense\u001b[0m)                 │ (\u001b[38;5;45mNone\u001b[0m, \u001b[38;5;34m38\u001b[0m)             │        \u001b[38;5;34m57,038\u001b[0m │\n",
       "└─────────────────────────────────┴────────────────────────┴───────────────┘\n"
      ]
     },
     "metadata": {},
     "output_type": "display_data"
    },
    {
     "data": {
      "text/html": [
       "<pre style=\"white-space:pre;overflow-x:auto;line-height:normal;font-family:Menlo,'DejaVu Sans Mono',consolas,'Courier New',monospace\"><span style=\"font-weight: bold\"> Total params: </span><span style=\"color: #00af00; text-decoration-color: #00af00\">7,842,762</span> (29.92 MB)\n",
       "</pre>\n"
      ],
      "text/plain": [
       "\u001b[1m Total params: \u001b[0m\u001b[38;5;34m7,842,762\u001b[0m (29.92 MB)\n"
      ]
     },
     "metadata": {},
     "output_type": "display_data"
    },
    {
     "data": {
      "text/html": [
       "<pre style=\"white-space:pre;overflow-x:auto;line-height:normal;font-family:Menlo,'DejaVu Sans Mono',consolas,'Courier New',monospace\"><span style=\"font-weight: bold\"> Trainable params: </span><span style=\"color: #00af00; text-decoration-color: #00af00\">7,842,762</span> (29.92 MB)\n",
       "</pre>\n"
      ],
      "text/plain": [
       "\u001b[1m Trainable params: \u001b[0m\u001b[38;5;34m7,842,762\u001b[0m (29.92 MB)\n"
      ]
     },
     "metadata": {},
     "output_type": "display_data"
    },
    {
     "data": {
      "text/html": [
       "<pre style=\"white-space:pre;overflow-x:auto;line-height:normal;font-family:Menlo,'DejaVu Sans Mono',consolas,'Courier New',monospace\"><span style=\"font-weight: bold\"> Non-trainable params: </span><span style=\"color: #00af00; text-decoration-color: #00af00\">0</span> (0.00 B)\n",
       "</pre>\n"
      ],
      "text/plain": [
       "\u001b[1m Non-trainable params: \u001b[0m\u001b[38;5;34m0\u001b[0m (0.00 B)\n"
      ]
     },
     "metadata": {},
     "output_type": "display_data"
    }
   ],
   "source": [
    "model.summary()"
   ]
  },
  {
   "cell_type": "code",
   "execution_count": 19,
   "id": "8dc450d1-f15f-4574-a77e-35467aa7904b",
   "metadata": {},
   "outputs": [],
   "source": [
    "optimizer = tf.keras.optimizers.Adam(learning_rate=0.0001)\n",
    "model.compile(optimizer=optimizer, loss='categorical_crossentropy', metrics=['accuracy'])"
   ]
  },
  {
   "cell_type": "code",
   "execution_count": 21,
   "id": "9e399d2c-63e3-4f50-aba0-212b4c04b726",
   "metadata": {},
   "outputs": [
    {
     "name": "stdout",
     "output_type": "stream",
     "text": [
      "Epoch 1/10\n",
      "\u001b[1m2197/2197\u001b[0m \u001b[32m━━━━━━━━━━━━━━━━━━━━\u001b[0m\u001b[37m\u001b[0m \u001b[1m1697s\u001b[0m 769ms/step - accuracy: 0.4237 - loss: 2.0404 - val_accuracy: 0.8640 - val_loss: 0.4471\n",
      "Epoch 2/10\n",
      "\u001b[1m2197/2197\u001b[0m \u001b[32m━━━━━━━━━━━━━━━━━━━━\u001b[0m\u001b[37m\u001b[0m \u001b[1m1584s\u001b[0m 721ms/step - accuracy: 0.8489 - loss: 0.4775 - val_accuracy: 0.9049 - val_loss: 0.3022\n",
      "Epoch 3/10\n",
      "\u001b[1m2197/2197\u001b[0m \u001b[32m━━━━━━━━━━━━━━━━━━━━\u001b[0m\u001b[37m\u001b[0m \u001b[1m4140s\u001b[0m 2s/step - accuracy: 0.9084 - loss: 0.2829 - val_accuracy: 0.9458 - val_loss: 0.1664\n",
      "Epoch 4/10\n",
      "\u001b[1m2197/2197\u001b[0m \u001b[32m━━━━━━━━━━━━━━━━━━━━\u001b[0m\u001b[37m\u001b[0m \u001b[1m21045s\u001b[0m 10s/step - accuracy: 0.9400 - loss: 0.1816 - val_accuracy: 0.9416 - val_loss: 0.1780\n",
      "Epoch 5/10\n",
      "\u001b[1m2197/2197\u001b[0m \u001b[32m━━━━━━━━━━━━━━━━━━━━\u001b[0m\u001b[37m\u001b[0m \u001b[1m1332s\u001b[0m 606ms/step - accuracy: 0.9586 - loss: 0.1278 - val_accuracy: 0.9384 - val_loss: 0.1905\n",
      "Epoch 6/10\n",
      "\u001b[1m2197/2197\u001b[0m \u001b[32m━━━━━━━━━━━━━━━━━━━━\u001b[0m\u001b[37m\u001b[0m \u001b[1m1334s\u001b[0m 607ms/step - accuracy: 0.9648 - loss: 0.1057 - val_accuracy: 0.9553 - val_loss: 0.1380\n",
      "Epoch 7/10\n",
      "\u001b[1m2197/2197\u001b[0m \u001b[32m━━━━━━━━━━━━━━━━━━━━\u001b[0m\u001b[37m\u001b[0m \u001b[1m1385s\u001b[0m 630ms/step - accuracy: 0.9717 - loss: 0.0858 - val_accuracy: 0.9506 - val_loss: 0.1494\n",
      "Epoch 8/10\n",
      "\u001b[1m2197/2197\u001b[0m \u001b[32m━━━━━━━━━━━━━━━━━━━━\u001b[0m\u001b[37m\u001b[0m \u001b[1m1389s\u001b[0m 632ms/step - accuracy: 0.9789 - loss: 0.0648 - val_accuracy: 0.9590 - val_loss: 0.1354\n",
      "Epoch 9/10\n",
      "\u001b[1m2197/2197\u001b[0m \u001b[32m━━━━━━━━━━━━━━━━━━━━\u001b[0m\u001b[37m\u001b[0m \u001b[1m1341s\u001b[0m 610ms/step - accuracy: 0.9812 - loss: 0.0581 - val_accuracy: 0.9624 - val_loss: 0.1244\n",
      "Epoch 10/10\n",
      "\u001b[1m2197/2197\u001b[0m \u001b[32m━━━━━━━━━━━━━━━━━━━━\u001b[0m\u001b[37m\u001b[0m \u001b[1m1487s\u001b[0m 677ms/step - accuracy: 0.9827 - loss: 0.0562 - val_accuracy: 0.9654 - val_loss: 0.1180\n"
     ]
    }
   ],
   "source": [
    "training_history = model.fit(x=training_set,validation_data=validation_set,epochs=10)"
   ]
  },
  {
   "cell_type": "code",
   "execution_count": 22,
   "id": "44ad5062-153a-481c-a072-256405498c44",
   "metadata": {},
   "outputs": [
    {
     "name": "stdout",
     "output_type": "stream",
     "text": [
      "\u001b[1m2197/2197\u001b[0m \u001b[32m━━━━━━━━━━━━━━━━━━━━\u001b[0m\u001b[37m\u001b[0m \u001b[1m426s\u001b[0m 194ms/step - accuracy: 0.9897 - loss: 0.0313\n"
     ]
    }
   ],
   "source": [
    "train_loss,train_acc = model.evaluate(training_set)"
   ]
  },
  {
   "cell_type": "code",
   "execution_count": 23,
   "id": "13364889-2da6-4850-8ed9-244158cba5a8",
   "metadata": {},
   "outputs": [
    {
     "name": "stdout",
     "output_type": "stream",
     "text": [
      "0.02695959433913231 0.9914077520370483\n"
     ]
    }
   ],
   "source": [
    "print(train_loss,train_acc)"
   ]
  },
  {
   "cell_type": "code",
   "execution_count": 24,
   "id": "7228d8ae-d4c3-4742-969d-d66fff110438",
   "metadata": {},
   "outputs": [
    {
     "name": "stdout",
     "output_type": "stream",
     "text": [
      "\u001b[1m550/550\u001b[0m \u001b[32m━━━━━━━━━━━━━━━━━━━━\u001b[0m\u001b[37m\u001b[0m \u001b[1m118s\u001b[0m 214ms/step - accuracy: 0.9656 - loss: 0.1190\n"
     ]
    }
   ],
   "source": [
    "val_loss,val_acc = model.evaluate(validation_set)"
   ]
  },
  {
   "cell_type": "code",
   "execution_count": 25,
   "id": "6b53e7e5-33d2-4b20-961c-c1049bfbf007",
   "metadata": {},
   "outputs": [
    {
     "name": "stdout",
     "output_type": "stream",
     "text": [
      "0.11798363924026489 0.9653995037078857\n"
     ]
    }
   ],
   "source": [
    "print(val_loss,val_acc)"
   ]
  },
  {
   "cell_type": "code",
   "execution_count": 26,
   "id": "e8ab1a2d-4dc8-4444-b719-c77b98456eed",
   "metadata": {},
   "outputs": [],
   "source": [
    "model.save(\"Trained_model.keras\")"
   ]
  },
  {
   "cell_type": "code",
   "execution_count": 27,
   "id": "9da9bdfd-fee6-4a6a-8d73-8edb5b8e3cff",
   "metadata": {},
   "outputs": [
    {
     "data": {
      "text/plain": [
       "{'accuracy': [0.6244736313819885,\n",
       "  0.8687976598739624,\n",
       "  0.9181745648384094,\n",
       "  0.9440508484840393,\n",
       "  0.9592864513397217,\n",
       "  0.9670678377151489,\n",
       "  0.972957193851471,\n",
       "  0.978305995464325,\n",
       "  0.9817485809326172,\n",
       "  0.9829151034355164],\n",
       " 'loss': [1.2763938903808594,\n",
       "  0.4101862609386444,\n",
       "  0.2511269450187683,\n",
       "  0.16996628046035767,\n",
       "  0.12709444761276245,\n",
       "  0.0997314453125,\n",
       "  0.08300624787807465,\n",
       "  0.06683649122714996,\n",
       "  0.05739564076066017,\n",
       "  0.053788430988788605],\n",
       " 'val_accuracy': [0.8640450835227966,\n",
       "  0.9049055576324463,\n",
       "  0.9458228945732117,\n",
       "  0.941611647605896,\n",
       "  0.9384247660636902,\n",
       "  0.9552697539329529,\n",
       "  0.9506032466888428,\n",
       "  0.9589688181877136,\n",
       "  0.9623833298683167,\n",
       "  0.9653995037078857],\n",
       " 'val_loss': [0.4471169710159302,\n",
       "  0.3021906912326813,\n",
       "  0.16638793051242828,\n",
       "  0.1779668629169464,\n",
       "  0.1904830038547516,\n",
       "  0.1380431205034256,\n",
       "  0.1493675857782364,\n",
       "  0.13538740575313568,\n",
       "  0.12437430769205093,\n",
       "  0.11798365414142609]}"
      ]
     },
     "execution_count": 27,
     "metadata": {},
     "output_type": "execute_result"
    }
   ],
   "source": [
    "training_history.history"
   ]
  },
  {
   "cell_type": "code",
   "execution_count": 28,
   "id": "6caedd93-0797-4c81-9360-0d1bf783a6fa",
   "metadata": {},
   "outputs": [],
   "source": [
    "import json\n",
    "with open(\"training_hist1.json\",\"w\") as f:\n",
    "    json.dump(training_history.history,f)"
   ]
  },
  {
   "cell_type": "code",
   "execution_count": 29,
   "id": "e22a27be-b984-48df-92ca-ecd881f5c8bb",
   "metadata": {},
   "outputs": [
    {
     "data": {
      "text/plain": [
       "[0.8640450835227966,\n",
       " 0.9049055576324463,\n",
       " 0.9458228945732117,\n",
       " 0.941611647605896,\n",
       " 0.9384247660636902,\n",
       " 0.9552697539329529,\n",
       " 0.9506032466888428,\n",
       " 0.9589688181877136,\n",
       " 0.9623833298683167,\n",
       " 0.9653995037078857]"
      ]
     },
     "execution_count": 29,
     "metadata": {},
     "output_type": "execute_result"
    }
   ],
   "source": [
    "training_history.history['val_accuracy']"
   ]
  },
  {
   "cell_type": "code",
   "execution_count": 30,
   "id": "025da088-2220-4c6b-872a-b9f7fd2c53e4",
   "metadata": {},
   "outputs": [
    {
     "data": {
      "image/png": "[encoded data removed]",
      "text/plain": [
       "<Figure size 640x480 with 1 Axes>"
      ]
     },
     "metadata": {},
     "output_type": "display_data"
    }
   ],
   "source": [
    "epochs = range(1, len(training_history.history['accuracy']) + 1)\n",
    "plt.plot(epochs,training_history.history['accuracy'],color='red',label='Training Accuracy')\n",
    "plt.plot(epochs,training_history.history['val_accuracy'],color='blue',label='Validation Accuracy')\n",
    "plt.xlabel('No. of Epochs')\n",
    "plt.title('Visualization of Accuracy Result')\n",
    "plt.legend()\n",
    "plt.show()"
   ]
  },
  {
   "cell_type": "code",
   "execution_count": 31,
   "id": "9d342b47-ad79-498e-9cd1-349467ee9006",
   "metadata": {},
   "outputs": [
    {
     "data": {
      "text/plain": [
       "['Apple___Apple_scab',\n",
       " 'Apple___Black_rot',\n",
       " 'Apple___Cedar_apple_rust',\n",
       " 'Apple___healthy',\n",
       " 'Blueberry___healthy',\n",
       " 'Cherry_(including_sour)___Powdery_mildew',\n",
       " 'Cherry_(including_sour)___healthy',\n",
       " 'Corn_(maize)___Cercospora_leaf_spot Gray_leaf_spot',\n",
       " 'Corn_(maize)___Common_rust_',\n",
       " 'Corn_(maize)___Northern_Leaf_Blight',\n",
       " 'Corn_(maize)___healthy',\n",
       " 'Grape___Black_rot',\n",
       " 'Grape___Esca_(Black_Measles)',\n",
       " 'Grape___Leaf_blight_(Isariopsis_Leaf_Spot)',\n",
       " 'Grape___healthy',\n",
       " 'Orange___Haunglongbing_(Citrus_greening)',\n",
       " 'Peach___Bacterial_spot',\n",
       " 'Peach___healthy',\n",
       " 'Pepper,_bell___Bacterial_spot',\n",
       " 'Pepper,_bell___healthy',\n",
       " 'Potato___Early_blight',\n",
       " 'Potato___Late_blight',\n",
       " 'Potato___healthy',\n",
       " 'Raspberry___healthy',\n",
       " 'Soybean___healthy',\n",
       " 'Squash___Powdery_mildew',\n",
       " 'Strawberry___Leaf_scorch',\n",
       " 'Strawberry___healthy',\n",
       " 'Tomato___Bacterial_spot',\n",
       " 'Tomato___Early_blight',\n",
       " 'Tomato___Late_blight',\n",
       " 'Tomato___Leaf_Mold',\n",
       " 'Tomato___Septoria_leaf_spot',\n",
       " 'Tomato___Spider_mites Two-spotted_spider_mite',\n",
       " 'Tomato___Target_Spot',\n",
       " 'Tomato___Tomato_Yellow_Leaf_Curl_Virus',\n",
       " 'Tomato___Tomato_mosaic_virus',\n",
       " 'Tomato___healthy']"
      ]
     },
     "execution_count": 31,
     "metadata": {},
     "output_type": "execute_result"
    }
   ],
   "source": [
    "class_name = validation_set.class_names\n",
    "class_name"
   ]
  },
  {
   "cell_type": "code",
   "execution_count": 32,
   "id": "70d066d4-66d5-419a-b4d0-994dc2fd5d51",
   "metadata": {},
   "outputs": [
    {
     "name": "stdout",
     "output_type": "stream",
     "text": [
      "Found 17572 files belonging to 38 classes.\n"
     ]
    }
   ],
   "source": [
    "test_set =  tf.keras.utils.image_dataset_from_directory(\n",
    "    'valid',\n",
    "    labels=\"inferred\",\n",
    "    label_mode=\"categorical\",\n",
    "    class_names=None,\n",
    "    color_mode=\"rgb\",\n",
    "    batch_size=32,\n",
    "    image_size=(128, 128),\n",
    "    shuffle=False,\n",
    "    seed=None,\n",
    "    validation_split=None,\n",
    "    subset=None,\n",
    "    interpolation=\"bilinear\",\n",
    "    follow_links=False,\n",
    "    crop_to_aspect_ratio=False\n",
    ") "
   ]
  },
  {
   "cell_type": "code",
   "execution_count": 33,
   "id": "e2a6650f-a931-4de1-9c20-01b90d5a67ce",
   "metadata": {},
   "outputs": [
    {
     "name": "stdout",
     "output_type": "stream",
     "text": [
      "\u001b[1m550/550\u001b[0m \u001b[32m━━━━━━━━━━━━━━━━━━━━\u001b[0m\u001b[37m\u001b[0m \u001b[1m112s\u001b[0m 202ms/step\n"
     ]
    }
   ],
   "source": [
    "y_pred = model.predict(test_set)\n",
    "predicted_categories = tf.argmax(y_pred, axis=1)"
   ]
  },
  {
   "cell_type": "code",
   "execution_count": 34,
   "id": "69920472-8d3e-4ee6-8af6-88037bb9f317",
   "metadata": {},
   "outputs": [
    {
     "data": {
      "text/plain": [
       "<tf.Tensor: shape=(17572,), dtype=int64, numpy=array([ 0,  0,  0, ..., 37, 37, 37], dtype=int64)>"
      ]
     },
     "execution_count": 34,
     "metadata": {},
     "output_type": "execute_result"
    }
   ],
   "source": [
    "predicted_categories"
   ]
  },
  {
   "cell_type": "code",
   "execution_count": 35,
   "id": "de0dd2e0-2441-48a9-a00e-cba2549f0ca7",
   "metadata": {},
   "outputs": [
    {
     "data": {
      "text/plain": [
       "<tf.Tensor: shape=(17572, 38), dtype=float32, numpy=\n",
       "array([[1., 0., 0., ..., 0., 0., 0.],\n",
       "       [1., 0., 0., ..., 0., 0., 0.],\n",
       "       [1., 0., 0., ..., 0., 0., 0.],\n",
       "       ...,\n",
       "       [0., 0., 0., ..., 0., 0., 1.],\n",
       "       [0., 0., 0., ..., 0., 0., 1.],\n",
       "       [0., 0., 0., ..., 0., 0., 1.]], dtype=float32)>"
      ]
     },
     "execution_count": 35,
     "metadata": {},
     "output_type": "execute_result"
    }
   ],
   "source": [
    "true_categories = tf.concat([y for x,y in test_set],axis=0)\n",
    "true_categories"
   ]
  },
  {
   "cell_type": "code",
   "execution_count": 36,
   "id": "f9130ff9-0361-4db0-bda9-dbf20d56792c",
   "metadata": {},
   "outputs": [
    {
     "data": {
      "text/plain": [
       "<tf.Tensor: shape=(17572,), dtype=int64, numpy=array([ 0,  0,  0, ..., 37, 37, 37], dtype=int64)>"
      ]
     },
     "execution_count": 36,
     "metadata": {},
     "output_type": "execute_result"
    }
   ],
   "source": [
    "Y_true = tf.argmax(true_categories,axis=1)\n",
    "Y_true"
   ]
  },
  {
   "cell_type": "code",
   "execution_count": 37,
   "id": "f6ae402a-0399-495b-ba26-184a1ffa9dc5",
   "metadata": {},
   "outputs": [],
   "source": [
    "from sklearn.metrics import classification_report,confusion_matrix"
   ]
  },
  {
   "cell_type": "code",
   "execution_count": 38,
   "id": "4dec3135-42dc-4e16-bb07-4702979e55b0",
   "metadata": {},
   "outputs": [
    {
     "name": "stdout",
     "output_type": "stream",
     "text": [
      "                                                    precision    recall  f1-score   support\n",
      "\n",
      "                                Apple___Apple_scab       0.98      0.95      0.97       504\n",
      "                                 Apple___Black_rot       1.00      0.98      0.99       497\n",
      "                          Apple___Cedar_apple_rust       0.98      0.99      0.99       440\n",
      "                                   Apple___healthy       0.96      0.97      0.96       502\n",
      "                               Blueberry___healthy       0.95      0.99      0.97       454\n",
      "          Cherry_(including_sour)___Powdery_mildew       0.99      0.98      0.98       421\n",
      "                 Cherry_(including_sour)___healthy       0.98      0.99      0.98       456\n",
      "Corn_(maize)___Cercospora_leaf_spot Gray_leaf_spot       0.95      0.90      0.93       410\n",
      "                       Corn_(maize)___Common_rust_       1.00      0.99      0.99       477\n",
      "               Corn_(maize)___Northern_Leaf_Blight       0.92      0.98      0.95       477\n",
      "                            Corn_(maize)___healthy       1.00      0.97      0.98       465\n",
      "                                 Grape___Black_rot       0.99      0.95      0.97       472\n",
      "                      Grape___Esca_(Black_Measles)       0.95      1.00      0.97       480\n",
      "        Grape___Leaf_blight_(Isariopsis_Leaf_Spot)       0.98      1.00      0.99       430\n",
      "                                   Grape___healthy       1.00      1.00      1.00       423\n",
      "          Orange___Haunglongbing_(Citrus_greening)       1.00      0.94      0.97       503\n",
      "                            Peach___Bacterial_spot       0.97      0.97      0.97       459\n",
      "                                   Peach___healthy       0.95      1.00      0.98       432\n",
      "                     Pepper,_bell___Bacterial_spot       0.99      0.93      0.96       478\n",
      "                            Pepper,_bell___healthy       0.94      0.96      0.95       497\n",
      "                             Potato___Early_blight       0.96      0.96      0.96       485\n",
      "                              Potato___Late_blight       0.90      0.96      0.93       485\n",
      "                                  Potato___healthy       0.95      0.98      0.97       456\n",
      "                               Raspberry___healthy       1.00      0.98      0.99       445\n",
      "                                 Soybean___healthy       1.00      0.96      0.98       505\n",
      "                           Squash___Powdery_mildew       0.96      1.00      0.98       434\n",
      "                          Strawberry___Leaf_scorch       0.99      0.96      0.98       444\n",
      "                              Strawberry___healthy       0.99      0.99      0.99       456\n",
      "                           Tomato___Bacterial_spot       0.98      0.96      0.97       425\n",
      "                             Tomato___Early_blight       0.90      0.94      0.92       480\n",
      "                              Tomato___Late_blight       0.91      0.89      0.90       463\n",
      "                                Tomato___Leaf_Mold       0.98      0.95      0.96       470\n",
      "                       Tomato___Septoria_leaf_spot       0.94      0.86      0.89       436\n",
      "     Tomato___Spider_mites Two-spotted_spider_mite       0.95      0.95      0.95       435\n",
      "                              Tomato___Target_Spot       0.91      0.95      0.93       457\n",
      "            Tomato___Tomato_Yellow_Leaf_Curl_Virus       0.99      0.98      0.99       490\n",
      "                      Tomato___Tomato_mosaic_virus       0.97      1.00      0.98       448\n",
      "                                  Tomato___healthy       0.97      0.99      0.98       481\n",
      "\n",
      "                                          accuracy                           0.97     17572\n",
      "                                         macro avg       0.97      0.97      0.97     17572\n",
      "                                      weighted avg       0.97      0.97      0.97     17572\n",
      "\n"
     ]
    }
   ],
   "source": [
    "print(classification_report(Y_true,predicted_categories,target_names = class_name))"
   ]
  },
  {
   "cell_type": "code",
   "execution_count": 39,
   "id": "e1f6a046-27f9-4f0b-9e8f-715ea56d7dab",
   "metadata": {},
   "outputs": [
    {
     "data": {
      "text/plain": [
       "(38, 38)"
      ]
     },
     "execution_count": 39,
     "metadata": {},
     "output_type": "execute_result"
    }
   ],
   "source": [
    "cm = confusion_matrix(Y_true, predicted_categories)\n",
    "cm.shape"
   ]
  },
  {
   "cell_type": "code",
   "execution_count": 40,
   "id": "bb95111b-4216-4f83-ab2e-622a2631c8ca",
   "metadata": {},
   "outputs": [
    {
     "data": {
      "image/png": "[encoded data removed]",
      "text/plain": [
       "<Figure size 4000x4000 with 2 Axes>"
      ]
     },
     "metadata": {},
     "output_type": "display_data"
    }
   ],
   "source": [
    "plt.figure(figsize=(40, 40))\n",
    "sns.heatmap(cm,annot=True,annot_kws={\"size\": 10})\n",
    "\n",
    "plt.xlabel('Predicted Class',fontsize = 20)\n",
    "plt.ylabel('Actual Class',fontsize = 20)\n",
    "plt.title('Plant Disease Prediction Confusion Matrix',fontsize = 25)\n",
    "plt.show()"
   ]
  }
 ],
 "metadata": {
  "kernelspec": {
   "display_name": "Python 3 (ipykernel)",
   "language": "python",
   "name": "python3"
  },
  "language_info": {
   "codemirror_mode": {
    "name": "ipython",
    "version": 3
   },
   "file_extension": ".py",
   "mimetype": "text/x-python",
   "name": "python",
   "nbconvert_exporter": "python",
   "pygments_lexer": "ipython3",
   "version": "3.11.7"
  }
 },
 "nbformat": 4,
 "nbformat_minor": 5
}
